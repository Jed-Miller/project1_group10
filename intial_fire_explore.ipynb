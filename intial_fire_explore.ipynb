{
 "cells": [
  {
   "cell_type": "code",
   "execution_count": 34,
   "metadata": {},
   "outputs": [
    {
     "name": "stdout",
     "output_type": "stream",
     "text": [
      "<class 'pandas.core.frame.DataFrame'>\n",
      "RangeIndex: 2062 entries, 0 to 2061\n",
      "Data columns (total 23 columns):\n",
      " #   Column                            Non-Null Count  Dtype  \n",
      "---  ------                            --------------  -----  \n",
      " 0   incident_name                     2062 non-null   object \n",
      " 1   incident_is_final                 2062 non-null   object \n",
      " 2   incident_date_last_update         2062 non-null   object \n",
      " 3   incident_date_created             2062 non-null   object \n",
      " 4   incident_administrative_unit      2050 non-null   object \n",
      " 5   incident_administrative_unit_url  0 non-null      float64\n",
      " 6   incident_county                   2052 non-null   object \n",
      " 7   incident_location                 2062 non-null   object \n",
      " 8   incident_acres_burned             2023 non-null   float64\n",
      " 9   incident_containment              2025 non-null   float64\n",
      " 10  incident_control                  123 non-null    object \n",
      " 11  incident_cooperating_agencies     1585 non-null   object \n",
      " 12  incident_longitude                2062 non-null   float64\n",
      " 13  incident_latitude                 2062 non-null   float64\n",
      " 14  incident_type                     828 non-null    object \n",
      " 15  incident_id                       2062 non-null   object \n",
      " 16  incident_url                      2062 non-null   object \n",
      " 17  incident_date_extinguished        1869 non-null   object \n",
      " 18  incident_dateonly_extinguished    1869 non-null   object \n",
      " 19  incident_dateonly_created         2062 non-null   object \n",
      " 20  is_active                         2062 non-null   object \n",
      " 21  calfire_incident                  2062 non-null   bool   \n",
      " 22  notification_desired              2062 non-null   bool   \n",
      "dtypes: bool(2), float64(5), object(16)\n",
      "memory usage: 342.4+ KB\n"
     ]
    }
   ],
   "source": [
    "import pandas as pd\n",
    "\n",
    "path = \"data/mapdataall.csv\"\n",
    "\n",
    "fire_data = pd.read_csv(path)\n",
    "\n",
    "fire_data.info()\n",
    "\n",
    "# Columns to include:\n",
    "# incident_name  \n",
    "# incident_id\n",
    "# incident_county \n",
    "# incident_acres_burned\n",
    "# incident_dateonly_extinguished\n",
    "# incident_dateonly_created\n",
    "# incident_longitude\n",
    "# incident_latitude"
   ]
  }
 ],
 "metadata": {
  "kernelspec": {
   "display_name": "PythonData",
   "language": "python",
   "name": "python3"
  },
  "language_info": {
   "codemirror_mode": {
    "name": "ipython",
    "version": 3
   },
   "file_extension": ".py",
   "mimetype": "text/x-python",
   "name": "python",
   "nbconvert_exporter": "python",
   "pygments_lexer": "ipython3",
   "version": "3.7.7"
  },
  "orig_nbformat": 4
 },
 "nbformat": 4,
 "nbformat_minor": 2
}
