{
 "cells": [
  {
   "cell_type": "code",
   "execution_count": 1,
   "id": "063b39a7",
   "metadata": {},
   "outputs": [],
   "source": [
    "import pandas as pd\n",
    "import requests\n",
    "\n",
    "url = \"https://cdec.water.ca.gov/dynamicapp/req/JSONDataServlet?Stations=ADM%2CBKL%2CBMW%2CBNK%2CCDP%2CDSS%2CFOR%2CGOL%2CGRZ%2CHMB%2CIDC%2CIDP%2CINN%2CLLP%2CMED%2CNLS%2CPLP%2CRRM%2CRTL%2CSHM%2CSLT%2CSNM%2CSQV%2CTK2%2C+ALP%2CBLC%2CBLK%2CBLS%2CBSK%2CCAP%2CCSL%2CDAN%2CDDM%2CEBB%2CEP5%2CFDC%2CFLL%2CGIN%2CGKS%2CGNL%2CHGM%2CHOR%2CHRS%2CHVN%2CHYS%2CLBD%2CLVM%2CLVT%2CMDW%2CMNT%2CMRL%2CMSK%2CPSN%2CRBB%2CRBP%2CRP2%2CSDW%2CSIL%2CSLI%2CSPS%2CSPT%2CSTR%2CTCC%2CTNY%2CTUM%2CVRG%2CWC3%2CWHW%2CBCH%2CBGP%2CCHM%2CCHP%2CCRL%2CCSV%2CCWD%2CDPO%2CGNF%2CGRM%2CGRV%2CKSP%2CMTM%2CPSC%2CPSR%2CRCK%2CSLK%2CSTL%2CSWM%2CTMR%2CTUN%2CUTY%2CVLC%2CWTM&SensorNums=18&dur_code=D&Start=2013-01-01&End=2023-04-13\"\n",
    "response = requests.get(url).json()"
   ]
  },
  {
   "cell_type": "code",
   "execution_count": 2,
   "id": "51f39cd9",
   "metadata": {},
   "outputs": [
    {
     "data": {
      "text/plain": [
       "array(['ADM', 'BNK', 'IDC', 'IDP', 'INN', 'LLP', 'MED', 'NLS', 'RRM',\n",
       "       'SHM', 'SLT', 'SNM', 'SQV', 'TK2', 'BLC', 'BLK', 'BLS', 'BSK',\n",
       "       'CAP', 'DAN', 'DDM', 'EBB', 'EP5', 'FDC', 'FLL', 'GIN', 'GKS',\n",
       "       'GNL', 'HGM', 'HOR', 'HRS', 'HVN', 'HYS', 'LVM', 'LVT', 'MDW',\n",
       "       'MNT', 'MRL', 'MSK', 'PSN', 'RP2', 'SDW', 'SIL', 'SLI', 'SPS',\n",
       "       'SPT', 'STR', 'TCC', 'TNY', 'TUM', 'VRG', 'WC3', 'WHW', 'BCH',\n",
       "       'BGP', 'CHM', 'CHP', 'CRL', 'CSV', 'CWD', 'DPO', 'GRM', 'GRV',\n",
       "       'KSP', 'MTM', 'PSC', 'PSR', 'RCK', 'SLK', 'STL', 'SWM', 'TMR',\n",
       "       'TUN', 'UTY', 'VLC', 'WTM'], dtype=object)"
      ]
     },
     "execution_count": 2,
     "metadata": {},
     "output_type": "execute_result"
    }
   ],
   "source": [
    "station_list = []\n",
    "date_list = []\n",
    "value_list = []\n",
    "\n",
    "for station in response:\n",
    "    if \"obsDate\" in station:\n",
    "        station_id = station['stationId']\n",
    "        date = pd.to_datetime(station['obsDate'])\n",
    "        value = station['value']\n",
    "        station_list.append(station_id)\n",
    "        date_list.append(date)\n",
    "        value_list.append(value)\n",
    "\n",
    "snow_df = pd.DataFrame({\n",
    "    \"Date\" : date_list,\n",
    "    \"Station ID\" : station_list,\n",
    "    \"Snow Depth (in)\" : value_list,\n",
    "})\n",
    "\n",
    "snow_df[\"Month\"] = snow_df[\"Date\"].dt.month\n",
    "snow_df[\"Year\"] = snow_df[\"Date\"].dt.year"
   ]
  },
  {
   "cell_type": "code",
   "execution_count": 9,
   "id": "e9109237",
   "metadata": {},
   "outputs": [
    {
     "data": {
      "text/plain": [
       "0"
      ]
     },
     "execution_count": 9,
     "metadata": {},
     "output_type": "execute_result"
    }
   ],
   "source": [
    "snow_df[\"Snow Depth (in)\"] = snow_df[\"Snow Depth (in)\"].clip(lower = 0)\n"
   ]
  },
  {
   "cell_type": "code",
   "execution_count": 11,
   "id": "f542e890",
   "metadata": {},
   "outputs": [],
   "source": [
    "winter_bin = [0,4,10,12]\n",
    "labels = [\"Winter_End\", \"Summer\", \"Winter_Start\"]\n",
    "\n",
    "snow_binned = snow_df.copy()\n",
    "snow_binned[\"Season\"] = pd.cut(x = snow_binned[\"Month\"], bins =  winter_bin, labels = labels)\n",
    "\n",
    "snow_season = snow_binned.sort_values([\"Year\", \"Month\"])\n",
    "\n",
    "season_list = []\n",
    "working_year = 2014\n",
    "\n",
    "for row in snow_season.iterrows():\n",
    "    row_year = row[1][4]\n",
    "    row_season = row[1][5]\n",
    "\n",
    "    if (row_season == \"Winter_End\") & (row_year == working_year):\n",
    "        season_list.append(f\"Winter {working_year - 1} {working_year}\")\n",
    "    elif (row_season == \"Winter_Start\") & (row_year == (working_year - 1)):\n",
    "        season_list.append(f\"Winter {working_year - 1} {working_year}\")\n",
    "    elif (row_season == \"Summer\"):\n",
    "        season_list.append(f\"Summer {working_year - 1} {working_year}\")\n",
    "    else:\n",
    "        season_list.append(f\"na\")\n",
    "\n",
    "    if (row_year == (working_year + 1)):\n",
    "        working_year = working_year + 1\n",
    "\n",
    "snow_season[\"Season\"] = season_list"
   ]
  },
  {
   "cell_type": "code",
   "execution_count": 15,
   "id": "8fa2fbdb",
   "metadata": {},
   "outputs": [
    {
     "name": "stderr",
     "output_type": "stream",
     "text": [
      "/Users/jakepohs/opt/anaconda3/envs/PythonData/lib/python3.7/site-packages/ipykernel_launcher.py:4: FutureWarning: Indexing with multiple keys (implicitly converted to a tuple of keys) will be deprecated, use a list instead.\n",
      "  after removing the cwd from sys.path.\n"
     ]
    },
    {
     "data": {
      "text/html": [
       "<div>\n",
       "<style scoped>\n",
       "    .dataframe tbody tr th:only-of-type {\n",
       "        vertical-align: middle;\n",
       "    }\n",
       "\n",
       "    .dataframe tbody tr th {\n",
       "        vertical-align: top;\n",
       "    }\n",
       "\n",
       "    .dataframe thead th {\n",
       "        text-align: right;\n",
       "    }\n",
       "</style>\n",
       "<table border=\"1\" class=\"dataframe\">\n",
       "  <thead>\n",
       "    <tr style=\"text-align: right;\">\n",
       "      <th></th>\n",
       "      <th>Date</th>\n",
       "      <th>Month</th>\n",
       "      <th>Year</th>\n",
       "      <th>Station ID</th>\n",
       "      <th>Snow Depth (in)</th>\n",
       "    </tr>\n",
       "    <tr>\n",
       "      <th>Season</th>\n",
       "      <th></th>\n",
       "      <th></th>\n",
       "      <th></th>\n",
       "      <th></th>\n",
       "      <th></th>\n",
       "    </tr>\n",
       "  </thead>\n",
       "  <tbody>\n",
       "    <tr>\n",
       "      <th>Winter 2013 2014</th>\n",
       "      <td>2014-04-30</td>\n",
       "      <td>12</td>\n",
       "      <td>2014</td>\n",
       "      <td>WHW</td>\n",
       "      <td>295</td>\n",
       "    </tr>\n",
       "    <tr>\n",
       "      <th>Winter 2014 2015</th>\n",
       "      <td>2015-04-30</td>\n",
       "      <td>4</td>\n",
       "      <td>2015</td>\n",
       "      <td>WHW</td>\n",
       "      <td>313</td>\n",
       "    </tr>\n",
       "    <tr>\n",
       "      <th>Winter 2015 2016</th>\n",
       "      <td>2016-04-30</td>\n",
       "      <td>4</td>\n",
       "      <td>2016</td>\n",
       "      <td>WHW</td>\n",
       "      <td>311</td>\n",
       "    </tr>\n",
       "    <tr>\n",
       "      <th>Winter 2016 2017</th>\n",
       "      <td>2017-04-30</td>\n",
       "      <td>4</td>\n",
       "      <td>2017</td>\n",
       "      <td>WHW</td>\n",
       "      <td>312</td>\n",
       "    </tr>\n",
       "    <tr>\n",
       "      <th>Winter 2017 2018</th>\n",
       "      <td>2018-04-30</td>\n",
       "      <td>4</td>\n",
       "      <td>2018</td>\n",
       "      <td>WHW</td>\n",
       "      <td>279</td>\n",
       "    </tr>\n",
       "    <tr>\n",
       "      <th>Winter 2018 2019</th>\n",
       "      <td>2019-04-30</td>\n",
       "      <td>4</td>\n",
       "      <td>2019</td>\n",
       "      <td>WTM</td>\n",
       "      <td>2317</td>\n",
       "    </tr>\n",
       "    <tr>\n",
       "      <th>Winter 2019 2020</th>\n",
       "      <td>2020-04-30</td>\n",
       "      <td>4</td>\n",
       "      <td>2020</td>\n",
       "      <td>WTM</td>\n",
       "      <td>332</td>\n",
       "    </tr>\n",
       "    <tr>\n",
       "      <th>Winter 2020 2021</th>\n",
       "      <td>2021-04-30</td>\n",
       "      <td>4</td>\n",
       "      <td>2021</td>\n",
       "      <td>WTM</td>\n",
       "      <td>322</td>\n",
       "    </tr>\n",
       "    <tr>\n",
       "      <th>Winter 2021 2022</th>\n",
       "      <td>2022-04-30</td>\n",
       "      <td>4</td>\n",
       "      <td>2022</td>\n",
       "      <td>WTM</td>\n",
       "      <td>329</td>\n",
       "    </tr>\n",
       "    <tr>\n",
       "      <th>Winter 2022 2023</th>\n",
       "      <td>2023-04-13</td>\n",
       "      <td>4</td>\n",
       "      <td>2023</td>\n",
       "      <td>WTM</td>\n",
       "      <td>334</td>\n",
       "    </tr>\n",
       "  </tbody>\n",
       "</table>\n",
       "</div>"
      ],
      "text/plain": [
       "                       Date  Month  Year Station ID  Snow Depth (in)\n",
       "Season                                                              \n",
       "Winter 2013 2014 2014-04-30     12  2014        WHW              295\n",
       "Winter 2014 2015 2015-04-30      4  2015        WHW              313\n",
       "Winter 2015 2016 2016-04-30      4  2016        WHW              311\n",
       "Winter 2016 2017 2017-04-30      4  2017        WHW              312\n",
       "Winter 2017 2018 2018-04-30      4  2018        WHW              279\n",
       "Winter 2018 2019 2019-04-30      4  2019        WTM             2317\n",
       "Winter 2019 2020 2020-04-30      4  2020        WTM              332\n",
       "Winter 2020 2021 2021-04-30      4  2021        WTM              322\n",
       "Winter 2021 2022 2022-04-30      4  2022        WTM              329\n",
       "Winter 2022 2023 2023-04-13      4  2023        WTM              334"
      ]
     },
     "execution_count": 15,
     "metadata": {},
     "output_type": "execute_result"
    }
   ],
   "source": [
    "winter_only_mask = snow_season[\"Season\"].str.contains(\"Winter\")\n",
    "snow_season_winter_only = snow_season.loc[winter_only_mask]\n",
    "snow_season_grouped = snow_season_winter_only.groupby([\"Season\"])\n",
    "snow_season_grouped = snow_season_grouped[\"Date\", \"Month\", \"Year\", \"Station ID\", \"Snow Depth (in)\"]\n",
    "snow_season_grouped.max().head(10)"
   ]
  }
 ],
 "metadata": {
  "kernelspec": {
   "display_name": "PythonData",
   "language": "python",
   "name": "python3"
  },
  "language_info": {
   "codemirror_mode": {
    "name": "ipython",
    "version": 3
   },
   "file_extension": ".py",
   "mimetype": "text/x-python",
   "name": "python",
   "nbconvert_exporter": "python",
   "pygments_lexer": "ipython3",
   "version": "3.7.7"
  }
 },
 "nbformat": 4,
 "nbformat_minor": 5
}
